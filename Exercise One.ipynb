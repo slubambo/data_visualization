{
 "cells": [
  {
   "cell_type": "code",
   "execution_count": 36,
   "metadata": {},
   "outputs": [],
   "source": [
    "# Assignment 1 of 4"
   ]
  },
  {
   "cell_type": "markdown",
   "metadata": {},
   "source": [
    "# LUBAMBO Simon B00145 J23MD10/223"
   ]
  },
  {
   "cell_type": "markdown",
   "metadata": {},
   "source": [
    "## Exercise 1a: Download the dataset \n",
    "https://github.com/johnhabere/datasets/blob/main/exchange-rates_uga.csv\n",
    "\n",
    "From the dataset accomplish the various statistics of the exchange rates using the rates (referred to as 'values' in the dataset) in the following exercises."
   ]
  },
  {
   "cell_type": "markdown",
   "metadata": {},
   "source": [
    "# Importing necessary libraries"
   ]
  },
  {
   "cell_type": "code",
   "execution_count": 37,
   "metadata": {},
   "outputs": [
    {
     "data": {
      "text/plain": [
       "'d:\\\\School\\\\Semester II\\\\Data Visualization\\\\Excercise One'"
      ]
     },
     "execution_count": 37,
     "metadata": {},
     "output_type": "execute_result"
    }
   ],
   "source": [
    "import numpy as np\n",
    "import pandas as pd\n",
    "import matplotlib.pyplot as plt\n",
    "import seaborn as sns\n",
    "import os\n",
    "import statistics\n",
    "from scipy.stats import skew, kurtosis\n",
    "\n",
    "# Knowing the working directory\n",
    "current_directory = os.getcwd()\n",
    "current_directory"
   ]
  },
  {
   "cell_type": "markdown",
   "metadata": {},
   "source": [
    "# Loading the dataset"
   ]
  },
  {
   "cell_type": "code",
   "execution_count": 38,
   "metadata": {},
   "outputs": [],
   "source": [
    "data_frame = pd.read_csv(\"exchange-rates_uga.csv\")\n",
    "\n",
    "\n",
    "data= data_frame.iloc[1:] # Removing the first row of the data frame"
   ]
  },
  {
   "cell_type": "markdown",
   "metadata": {},
   "source": [
    "## Exercise 1b: Create a list rates from the dataset"
   ]
  },
  {
   "cell_type": "code",
   "execution_count": 39,
   "metadata": {},
   "outputs": [
    {
     "name": "stdout",
     "output_type": "stream",
     "text": [
      "['42.841266666700001', '42.841266666700001', '14.000000000000000', '14.000000000000000', '14.000000000000000', '38.095199999999998', '60.000000000000000', '60.000000000000000', '60.000000000000000', '60.000000000000000']\n"
     ]
    }
   ],
   "source": [
    "rates = data['Value'].tolist()\n",
    "\n",
    "# Displaying a few values of the list of rates\n",
    "print(rates[:10])"
   ]
  },
  {
   "cell_type": "markdown",
   "metadata": {},
   "source": [
    "## Exercise 2: Measures of Central Tendency"
   ]
  },
  {
   "cell_type": "code",
   "execution_count": 40,
   "metadata": {},
   "outputs": [
    {
     "name": "stdout",
     "output_type": "stream",
     "text": [
      "Mean: 1383.336740770565\n",
      "Median: 1196.34\n",
      "Mode: 60.0\n"
     ]
    }
   ],
   "source": [
    "# Converting the 'rates' list to numeric values\n",
    "numeric_rates = pd.to_numeric(rates, errors='coerce')\n",
    "\n",
    "# Calculating mean, median, and standard deviation\n",
    "mean_value = statistics.mean(numeric_rates)\n",
    "median_value = statistics.median(numeric_rates)\n",
    "mode_value = statistics.mode(numeric_rates)\n",
    "\n",
    "# Displaying the values\n",
    "print(\"Mean:\", mean_value)\n",
    "print(\"Median:\", median_value)\n",
    "print(\"Mode:\", mode_value)"
   ]
  },
  {
   "cell_type": "markdown",
   "metadata": {},
   "source": [
    "## Exercise 2: Measures of Dispersion or Variability"
   ]
  },
  {
   "cell_type": "code",
   "execution_count": 41,
   "metadata": {},
   "outputs": [
    {
     "name": "stdout",
     "output_type": "stream",
     "text": [
      "Range: 3840.40653550001\n",
      "Variance (with Bessel's correction): 1566452.1676363798\n",
      "Standard Deviation (with Bessel's correction): 1251.579868660558\n",
      "Interquartile Range (IQR): 2004.7270968620803\n"
     ]
    }
   ],
   "source": [
    "# Calculating range\n",
    "data_range = np.max(numeric_rates) - np.min(numeric_rates)\n",
    "\n",
    "# Calculating variance with Bessel's correction\n",
    "variance_value = np.var(numeric_rates, ddof=1)\n",
    "\n",
    "# Calculating standard deviation with Bessel's correction\n",
    "std_dev_value = np.std(numeric_rates, ddof=1)\n",
    "\n",
    "# Calculating inter-quartile range (IQR)\n",
    "q3, q1 = np.percentile(numeric_rates, [75, 25])\n",
    "iqr_value = q3 - q1\n",
    "\n",
    "# Displaying the values\n",
    "print(\"Range:\", data_range)\n",
    "print(\"Variance (with Bessel's correction):\", variance_value)\n",
    "print(\"Standard Deviation (with Bessel's correction):\", std_dev_value)\n",
    "print(\"Interquartile Range (IQR):\", iqr_value)"
   ]
  },
  {
   "cell_type": "markdown",
   "metadata": {},
   "source": [
    "## Exercise 3: Calculating more statistics"
   ]
  },
  {
   "cell_type": "code",
   "execution_count": 42,
   "metadata": {},
   "outputs": [
    {
     "name": "stdout",
     "output_type": "stream",
     "text": [
      "Coefficient of Variation: 90.475430296414\n",
      "Quartile Coefficient of Dispersion: 0.9143960968116198\n",
      "Covariance with another variable: 18413.502829596335\n",
      "Pearson Correlation Coefficient (rho): 0.954455858142216\n",
      "Percentiles (10th, 25th, 50th, 75th): [   7.14300001   93.83923713 1196.34       2098.56633399]\n",
      "Skewness: 0.538888773038687\n",
      "Kurtosis: -0.9023102152124021\n"
     ]
    }
   ],
   "source": [
    "# Coefficient of Variation\n",
    "cv = (np.std(numeric_rates, ddof=1) / np.mean(numeric_rates)) * 100\n",
    "\n",
    "# Quartile Coefficient of Dispersion\n",
    "qcd = (q3 - q1) / (q3 + q1)\n",
    "\n",
    "# Covariance with the year variable\n",
    "year_variable = pd.to_numeric(data['Year'], errors='coerce')\n",
    "covariance_value = np.cov(numeric_rates, year_variable, ddof=1)[0, 1]\n",
    "\n",
    "# Pearson Correlation Coefficient (rho) with the year variable\n",
    "correlation_coefficient = np.corrcoef(numeric_rates, year_variable)[0, 1]\n",
    "\n",
    "# Percentiles\n",
    "percentiles = np.percentile(numeric_rates, [10, 25, 50, 75])\n",
    "\n",
    "# Skewness\n",
    "skewness_value = skew(numeric_rates)\n",
    "\n",
    "# Kurtosis\n",
    "kurtosis_value = kurtosis(numeric_rates)\n",
    "\n",
    "# Displaying the values\n",
    "print(\"Coefficient of Variation:\", cv)\n",
    "print(\"Quartile Coefficient of Dispersion:\", qcd)\n",
    "print(\"Covariance with another variable:\", covariance_value)\n",
    "print(\"Pearson Correlation Coefficient (rho):\", correlation_coefficient)\n",
    "print(\"Percentiles (10th, 25th, 50th, 75th):\", percentiles)\n",
    "print(\"Skewness:\", skewness_value)\n",
    "print(\"Kurtosis:\", kurtosis_value)"
   ]
  }
 ],
 "metadata": {
  "kernelspec": {
   "display_name": "Python 3",
   "language": "python",
   "name": "python3"
  },
  "language_info": {
   "codemirror_mode": {
    "name": "ipython",
    "version": 3
   },
   "file_extension": ".py",
   "mimetype": "text/x-python",
   "name": "python",
   "nbconvert_exporter": "python",
   "pygments_lexer": "ipython3",
   "version": "3.10.2"
  }
 },
 "nbformat": 4,
 "nbformat_minor": 2
}
